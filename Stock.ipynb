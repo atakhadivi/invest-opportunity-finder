{
  "nbformat": 4,
  "nbformat_minor": 0,
  "metadata": {
    "colab": {
      "provenance": [],
      "authorship_tag": "ABX9TyMIGvRW8+CibLjUz0TMt+II",
      "include_colab_link": true
    },
    "kernelspec": {
      "name": "python3",
      "display_name": "Python 3"
    },
    "language_info": {
      "name": "python"
    }
  },
  "cells": [
    {
      "cell_type": "markdown",
      "metadata": {
        "id": "view-in-github",
        "colab_type": "text"
      },
      "source": [
        "<a href=\"https://colab.research.google.com/github/atakhadivi/invest-opportunity-finder/blob/main/Stock.ipynb\" target=\"_parent\"><img src=\"https://colab.research.google.com/assets/colab-badge.svg\" alt=\"Open In Colab\"/></a>"
      ]
    },
    {
      "cell_type": "markdown",
      "source": [
        "Get Stock Data from Yahoo Finance"
      ],
      "metadata": {
        "id": "bjOZXKUPcRIh"
      }
    },
    {
      "cell_type": "code",
      "source": [
        "import pandas as pd\n",
        "import yfinance as yf\n",
        "\n",
        "# Define the stock ticker\n",
        "ticker = \"AAPL\"\n",
        "\n",
        "# Fetch the stock data\n",
        "data = yf.Ticker(ticker)\n",
        "historical_data = data.history(period=\"5y\")\n",
        "\n",
        "# Print the first 5 rows of the data\n",
        "print(historical_data.head())"
      ],
      "metadata": {
        "id": "3fGka273eMKs"
      },
      "execution_count": null,
      "outputs": []
    },
    {
      "cell_type": "markdown",
      "source": [
        "Get Stock Data from Alpha Vantage"
      ],
      "metadata": {
        "id": "6P24J_kXcV2Z"
      }
    },
    {
      "cell_type": "code",
      "source": [
        "!pip install alpha_vantage"
      ],
      "metadata": {
        "id": "oV1Ud0EcczRK"
      },
      "execution_count": null,
      "outputs": []
    },
    {
      "cell_type": "code",
      "source": [
        "import pandas as pd\n",
        "from alpha_vantage.timeseries import TimeSeries\n",
        "\n",
        "# Replace with your Alpha Vantage API key\n",
        "api_key = 'YOUR_API_KEY'\n",
        "\n",
        "# Define the stock ticker\n",
        "ticker = 'AAPL'\n",
        "\n",
        "# Initialize the TimeSeries object\n",
        "ts = TimeSeries(key=api_key, output_format='pandas')\n",
        "\n",
        "# Fetch the stock data\n",
        "data, meta_data = ts.get_daily(symbol=ticker, outputsize='full')\n",
        "\n",
        "# Print the first 5 rows of the data\n",
        "print(data.head())"
      ],
      "metadata": {
        "id": "vPHhghfToSrL"
      },
      "execution_count": null,
      "outputs": []
    },
    {
      "cell_type": "markdown",
      "source": [
        "Get Company Full Name from the Stock Ticker\n"
      ],
      "metadata": {
        "id": "01FgqjxFc4kH"
      }
    },
    {
      "cell_type": "code",
      "source": [
        "import yfinance as yf\n",
        "ticker = yf.Ticker(\"AAPL\")\n",
        "company_name = ticker.info['longName']\n",
        "print(company_name)"
      ],
      "metadata": {
        "id": "sOuwFRY8dlVa"
      },
      "execution_count": null,
      "outputs": []
    },
    {
      "cell_type": "markdown",
      "source": [
        "Get Price and Volume of the Stock\n"
      ],
      "metadata": {
        "id": "W3YI2hhP9W1T"
      }
    },
    {
      "cell_type": "code",
      "source": [
        "import yfinance as yf\n",
        "\n",
        "# Get the stock ticker, e.g. AAPL for Apple\n",
        "ticker = \"AAPL\"\n",
        "\n",
        "# Get the stock data\n",
        "stock = yf.Ticker(ticker)\n",
        "\n",
        "# Get the historical prices and volumes for the last year\n",
        "history = stock.history(period=\"1y\")\n",
        "\n",
        "# Print the recent price\n",
        "print(f\"Recent Price: {history['Close'].iloc[-1]}\")\n",
        "\n",
        "# Print the recent volume\n",
        "print(f\"Recent Volume: {history['Volume'].iloc[-1]}\")"
      ],
      "metadata": {
        "colab": {
          "base_uri": "https://localhost:8080/"
        },
        "id": "MHMVx2rr_gcj",
        "outputId": "b14ad962-f577-4523-e05b-19d9077e19a9"
      },
      "execution_count": 15,
      "outputs": [
        {
          "output_type": "stream",
          "name": "stdout",
          "text": [
            "Recent Price: 169.02000427246094\n",
            "Recent Volume: 48121300\n"
          ]
        }
      ]
    },
    {
      "cell_type": "code",
      "source": [],
      "metadata": {
        "id": "ztfYbLSL_pLp"
      },
      "execution_count": null,
      "outputs": []
    }
  ]
}