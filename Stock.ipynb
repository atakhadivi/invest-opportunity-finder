{
  "nbformat": 4,
  "nbformat_minor": 0,
  "metadata": {
    "colab": {
      "provenance": [],
      "authorship_tag": "ABX9TyMfECeCKQm02pH8Y6t9Q4CQ",
      "include_colab_link": true
    },
    "kernelspec": {
      "name": "python3",
      "display_name": "Python 3"
    },
    "language_info": {
      "name": "python"
    }
  },
  "cells": [
    {
      "cell_type": "markdown",
      "metadata": {
        "id": "view-in-github",
        "colab_type": "text"
      },
      "source": [
        "<a href=\"https://colab.research.google.com/github/atakhadivi/invest-opportunity-finder/blob/main/Stock.ipynb\" target=\"_parent\"><img src=\"https://colab.research.google.com/assets/colab-badge.svg\" alt=\"Open In Colab\"/></a>"
      ]
    },
    {
      "cell_type": "markdown",
      "source": [
        "Get Stock Data from Yahoo Finance"
      ],
      "metadata": {
        "id": "bjOZXKUPcRIh"
      }
    },
    {
      "cell_type": "code",
      "source": [
        "import pandas as pd\n",
        "import yfinance as yf\n",
        "\n",
        "# Define the stock ticker\n",
        "ticker = \"AAPL\"\n",
        "\n",
        "# Fetch the stock data\n",
        "data = yf.Ticker(ticker)\n",
        "historical_data = data.history(period=\"5y\")\n",
        "\n",
        "# Print the first 5 rows of the data\n",
        "print(historical_data.head())"
      ],
      "metadata": {
        "id": "3fGka273eMKs"
      },
      "execution_count": null,
      "outputs": []
    },
    {
      "cell_type": "markdown",
      "source": [
        "Get Stock Data from Alpha Vantage"
      ],
      "metadata": {
        "id": "6P24J_kXcV2Z"
      }
    },
    {
      "cell_type": "code",
      "source": [
        "!pip install alpha_vantage"
      ],
      "metadata": {
        "id": "oV1Ud0EcczRK"
      },
      "execution_count": null,
      "outputs": []
    },
    {
      "cell_type": "code",
      "source": [
        "import pandas as pd\n",
        "from alpha_vantage.timeseries import TimeSeries\n",
        "\n",
        "# Replace with your Alpha Vantage API key\n",
        "api_key = 'YOUR_API_KEY'\n",
        "\n",
        "# Define the stock ticker\n",
        "ticker = 'AAPL'\n",
        "\n",
        "# Initialize the TimeSeries object\n",
        "ts = TimeSeries(key=api_key, output_format='pandas')\n",
        "\n",
        "# Fetch the stock data\n",
        "data, meta_data = ts.get_daily(symbol=ticker, outputsize='full')\n",
        "\n",
        "# Print the first 5 rows of the data\n",
        "print(data.head())"
      ],
      "metadata": {
        "id": "vPHhghfToSrL"
      },
      "execution_count": null,
      "outputs": []
    },
    {
      "cell_type": "markdown",
      "source": [
        "Get Company Full Name from the Stock Ticker\n"
      ],
      "metadata": {
        "id": "01FgqjxFc4kH"
      }
    },
    {
      "cell_type": "code",
      "source": [
        "import yfinance as yf\n",
        "ticker = yf.Ticker(\"AAPL\")\n",
        "company_name = ticker.info['longName']\n",
        "print(company_name)"
      ],
      "metadata": {
        "colab": {
          "base_uri": "https://localhost:8080/"
        },
        "id": "sOuwFRY8dlVa",
        "outputId": "e0e73fd2-4ffc-49de-de99-cc5fb727f241"
      },
      "execution_count": 11,
      "outputs": [
        {
          "output_type": "stream",
          "name": "stdout",
          "text": [
            "Apple Inc.\n"
          ]
        }
      ]
    }
  ]
}