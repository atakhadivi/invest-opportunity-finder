{
  "nbformat": 4,
  "nbformat_minor": 0,
  "metadata": {
    "colab": {
      "provenance": [],
      "authorship_tag": "ABX9TyPck0d6D8Ty2eVpyKHDgIb8",
      "include_colab_link": true
    },
    "kernelspec": {
      "name": "python3",
      "display_name": "Python 3"
    },
    "language_info": {
      "name": "python"
    }
  },
  "cells": [
    {
      "cell_type": "markdown",
      "metadata": {
        "id": "view-in-github",
        "colab_type": "text"
      },
      "source": [
        "<a href=\"https://colab.research.google.com/github/atakhadivi/invest-opportunity-finder/blob/main/Stock.ipynb\" target=\"_parent\"><img src=\"https://colab.research.google.com/assets/colab-badge.svg\" alt=\"Open In Colab\"/></a>"
      ]
    },
    {
      "cell_type": "markdown",
      "source": [
        "Get Stock Data from Yahoo Finance"
      ],
      "metadata": {
        "id": "bjOZXKUPcRIh"
      }
    },
    {
      "cell_type": "code",
      "source": [
        "import pandas as pd\n",
        "import yfinance as yf\n",
        "\n",
        "# Define the stock ticker\n",
        "ticker = \"AAPL\"\n",
        "\n",
        "# Fetch the stock data\n",
        "data = yf.Ticker(ticker)\n",
        "historical_data = data.history(period=\"5y\")\n",
        "\n",
        "# Print the first 5 rows of the data\n",
        "print(historical_data.head())"
      ],
      "metadata": {
        "id": "3fGka273eMKs"
      },
      "execution_count": null,
      "outputs": []
    },
    {
      "cell_type": "markdown",
      "source": [
        "Get Stock Data from Alpha Vantage"
      ],
      "metadata": {
        "id": "6P24J_kXcV2Z"
      }
    },
    {
      "cell_type": "code",
      "source": [
        "!pip install alpha_vantage"
      ],
      "metadata": {
        "colab": {
          "base_uri": "https://localhost:8080/"
        },
        "id": "oV1Ud0EcczRK",
        "outputId": "a87b2c51-7656-458d-8ae8-3e1473f887e4"
      },
      "execution_count": 4,
      "outputs": [
        {
          "output_type": "stream",
          "name": "stdout",
          "text": [
            "Collecting alpha_vantage\n",
            "  Downloading alpha_vantage-2.3.1-py3-none-any.whl (31 kB)\n",
            "Requirement already satisfied: aiohttp in /usr/local/lib/python3.10/dist-packages (from alpha_vantage) (3.9.5)\n",
            "Requirement already satisfied: requests in /usr/local/lib/python3.10/dist-packages (from alpha_vantage) (2.31.0)\n",
            "Requirement already satisfied: aiosignal>=1.1.2 in /usr/local/lib/python3.10/dist-packages (from aiohttp->alpha_vantage) (1.3.1)\n",
            "Requirement already satisfied: attrs>=17.3.0 in /usr/local/lib/python3.10/dist-packages (from aiohttp->alpha_vantage) (23.2.0)\n",
            "Requirement already satisfied: frozenlist>=1.1.1 in /usr/local/lib/python3.10/dist-packages (from aiohttp->alpha_vantage) (1.4.1)\n",
            "Requirement already satisfied: multidict<7.0,>=4.5 in /usr/local/lib/python3.10/dist-packages (from aiohttp->alpha_vantage) (6.0.5)\n",
            "Requirement already satisfied: yarl<2.0,>=1.0 in /usr/local/lib/python3.10/dist-packages (from aiohttp->alpha_vantage) (1.9.4)\n",
            "Requirement already satisfied: async-timeout<5.0,>=4.0 in /usr/local/lib/python3.10/dist-packages (from aiohttp->alpha_vantage) (4.0.3)\n",
            "Requirement already satisfied: charset-normalizer<4,>=2 in /usr/local/lib/python3.10/dist-packages (from requests->alpha_vantage) (3.3.2)\n",
            "Requirement already satisfied: idna<4,>=2.5 in /usr/local/lib/python3.10/dist-packages (from requests->alpha_vantage) (3.7)\n",
            "Requirement already satisfied: urllib3<3,>=1.21.1 in /usr/local/lib/python3.10/dist-packages (from requests->alpha_vantage) (2.0.7)\n",
            "Requirement already satisfied: certifi>=2017.4.17 in /usr/local/lib/python3.10/dist-packages (from requests->alpha_vantage) (2024.2.2)\n",
            "Installing collected packages: alpha_vantage\n",
            "Successfully installed alpha_vantage-2.3.1\n"
          ]
        }
      ]
    },
    {
      "cell_type": "code",
      "source": [
        "import pandas as pd\n",
        "from alpha_vantage.timeseries import TimeSeries\n",
        "\n",
        "# Replace with your Alpha Vantage API key\n",
        "api_key = 'YOUR_API_KEY'\n",
        "\n",
        "# Define the stock ticker\n",
        "ticker = 'AAPL'\n",
        "\n",
        "# Initialize the TimeSeries object\n",
        "ts = TimeSeries(key=api_key, output_format='pandas')\n",
        "\n",
        "# Fetch the stock data\n",
        "data, meta_data = ts.get_daily(symbol=ticker, outputsize='full')\n",
        "\n",
        "# Print the first 5 rows of the data\n",
        "print(data.head())"
      ],
      "metadata": {
        "colab": {
          "base_uri": "https://localhost:8080/"
        },
        "id": "vPHhghfToSrL",
        "outputId": "bd24b1c6-ebd1-41f1-8eda-f37c6f119d5c"
      },
      "execution_count": 12,
      "outputs": [
        {
          "output_type": "stream",
          "name": "stdout",
          "text": [
            "            1. open  2. high   3. low  4. close   5. volume\n",
            "date                                                       \n",
            "2024-04-19   166.21   166.40  164.075    165.00  68149377.0\n",
            "2024-04-18   168.03   168.64  166.550    167.04  43122903.0\n",
            "2024-04-17   169.61   170.65  168.000    168.00  50901210.0\n",
            "2024-04-16   171.75   173.76  168.270    169.38  73711235.0\n",
            "2024-04-15   175.36   176.63  172.500    172.69  73531773.0\n"
          ]
        }
      ]
    },
    {
      "cell_type": "code",
      "source": [],
      "metadata": {
        "id": "rJTex_eloWQK"
      },
      "execution_count": null,
      "outputs": []
    }
  ]
}