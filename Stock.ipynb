{
  "nbformat": 4,
  "nbformat_minor": 0,
  "metadata": {
    "colab": {
      "provenance": [],
      "authorship_tag": "ABX9TyMGMat6dMLW8vU5hZax5xAt",
      "include_colab_link": true
    },
    "kernelspec": {
      "name": "python3",
      "display_name": "Python 3"
    },
    "language_info": {
      "name": "python"
    }
  },
  "cells": [
    {
      "cell_type": "markdown",
      "metadata": {
        "id": "view-in-github",
        "colab_type": "text"
      },
      "source": [
        "<a href=\"https://colab.research.google.com/github/atakhadivi/invest-opportunity-finder/blob/main/Stock.ipynb\" target=\"_parent\"><img src=\"https://colab.research.google.com/assets/colab-badge.svg\" alt=\"Open In Colab\"/></a>"
      ]
    },
    {
      "cell_type": "code",
      "source": [
        "import pandas as pd\n",
        "import yfinance as yf\n",
        "\n",
        "# Define the stock ticker\n",
        "ticker = \"AAPL\"\n",
        "\n",
        "# Fetch the stock data\n",
        "data = yf.Ticker(ticker)\n",
        "historical_data = data.history(period=\"5y\")\n",
        "\n",
        "# Print the first 5 rows of the data\n",
        "print(historical_data.head())"
      ],
      "metadata": {
        "id": "3fGka273eMKs",
        "outputId": "5ebd4441-4af5-4f9c-b00f-9f9fc745cf43",
        "colab": {
          "base_uri": "https://localhost:8080/"
        }
      },
      "execution_count": null,
      "outputs": [
        {
          "output_type": "stream",
          "name": "stdout",
          "text": [
            "                                Open       High        Low      Close  \\\n",
            "Date                                                                    \n",
            "2019-04-15 00:00:00-04:00  47.793197  48.098855  47.656011  47.949635   \n",
            "2019-04-16 00:00:00-04:00  48.004981  48.464666  47.788371  47.954437   \n",
            "2019-04-17 00:00:00-04:00  48.024224  48.948417  47.800398  48.888248   \n",
            "2019-04-18 00:00:00-04:00  48.885845  49.133740  48.741443  49.063946   \n",
            "2019-04-22 00:00:00-04:00  48.816058  49.323882  48.698126  49.225204   \n",
            "\n",
            "                              Volume  Dividends  Stock Splits  \n",
            "Date                                                           \n",
            "2019-04-15 00:00:00-04:00   70146400        0.0           0.0  \n",
            "2019-04-16 00:00:00-04:00  102785600        0.0           0.0  \n",
            "2019-04-17 00:00:00-04:00  115627200        0.0           0.0  \n",
            "2019-04-18 00:00:00-04:00   96783200        0.0           0.0  \n",
            "2019-04-22 00:00:00-04:00   77758000        0.0           0.0  \n"
          ]
        }
      ]
    },
    {
      "cell_type": "code",
      "source": [],
      "metadata": {
        "id": "jPqD1X1IeNLX"
      },
      "execution_count": null,
      "outputs": []
    }
  ]
}